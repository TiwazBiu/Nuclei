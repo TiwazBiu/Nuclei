{
 "cells": [
  {
   "cell_type": "code",
   "execution_count": 209,
   "metadata": {
    "ExecuteTime": {
     "end_time": "2018-01-24T01:02:38.418667Z",
     "start_time": "2018-01-24T01:02:38.396318Z"
    }
   },
   "outputs": [],
   "source": [
    "import numpy as np\n",
    "from itertools import chain,groupby\n",
    "from glob import glob\n",
    "import random\n",
    "from PIL import Image\n",
    "from matplotlib import pyplot as plt\n",
    "%matplotlib inline"
   ]
  },
  {
   "cell_type": "code",
   "execution_count": 210,
   "metadata": {
    "ExecuteTime": {
     "end_time": "2018-01-24T01:02:38.704595Z",
     "start_time": "2018-01-24T01:02:38.642066Z"
    }
   },
   "outputs": [],
   "source": [
    "# groupby return value and subgroup,subgroup is also a iterable,change it to list to get the length of it\n",
    "def run_length_encoding(it):\n",
    "    return list(chain.from_iterable(\n",
    "            (value,len(list(sub_it))) \n",
    "            for value,sub_it in groupby(it)))\n",
    "\n",
    "#in fact, only mask need to be returned, so RLE can only count 255 rather than count both 0 and 255\n",
    "# The pixels are one-indexed and numbered from top to bottom, then left to right as the dataset mask is encoded,\n",
    "# so I use flatten(order='F')\n",
    "def mask_encoding(mask):\n",
    "    mask = np.array(mask)\n",
    "    shape = mask.shape\n",
    "    it = mask.flatten(order='F')\n",
    "    start_point = 1;\n",
    "    rle = []\n",
    "    for value, sub_it in groupby(it):\n",
    "        length = len(list(sub_it))\n",
    "        if value == 255:\n",
    "            rle.append(start_point)\n",
    "            rle.append(length)\n",
    "        start_point += length\n",
    "    return rle,shape\n",
    "\n",
    "def mask_decoding(rle,shape):\n",
    "    mask = np.zeros(shape).flatten(order='F')\n",
    "    i = 0;\n",
    "    total_length = len(rle)\n",
    "    while(i < total_length):\n",
    "        place,length = rle[i]-1,rle[i+1]\n",
    "        mask[place:place+length] = 255\n",
    "        i += 2\n",
    "    return mask.reshape(shape,order='F')"
   ]
  },
  {
   "cell_type": "code",
   "execution_count": 211,
   "metadata": {
    "ExecuteTime": {
     "end_time": "2018-01-24T01:02:40.248011Z",
     "start_time": "2018-01-24T01:02:39.366838Z"
    }
   },
   "outputs": [],
   "source": [
    "masks = glob('./stage1_train/*/masks/*')"
   ]
  },
  {
   "cell_type": "code",
   "execution_count": 212,
   "metadata": {
    "ExecuteTime": {
     "end_time": "2018-01-24T01:02:40.619858Z",
     "start_time": "2018-01-24T01:02:40.249792Z"
    }
   },
   "outputs": [
    {
     "name": "stdout",
     "output_type": "stream",
     "text": [
      "./stage1_train/55ff2b0ec48b76e10c7ee18add5794005cd551697f96af865c763d50da78dd9c/masks/2ad392d69824b3f1e2c896164f6f9d1c8381eca95a2ae8529802bc3c62192fac.png\n",
      "(256, 256)\n",
      "RLE: [23759, 4, 24014, 7, 24269, 10, 24523, 13, 24778, 14, 25034, 15, 25289, 17, 25544, 18, 25799, 20, 26055, 20, 26311, 19, 26567, 19, 26823, 19, 27080, 18, 27337, 17, 27593, 16, 27849, 16, 28106, 15, 28363, 13, 28620, 11, 28879, 7] \n",
      "\n"
     ]
    },
    {
     "data": {
      "image/png": "[encoded data removed]",
      "text/plain": [
       "<matplotlib.figure.Figure at 0x114316c18>"
      ]
     },
     "metadata": {},
     "output_type": "display_data"
    }
   ],
   "source": [
    "rand_mask_path = random.choice(masks)\n",
    "print(rand_mask_path)\n",
    "mask = np.array(Image.open(rand_mask_path))\n",
    "print(mask.shape)\n",
    "plt.subplot(121)\n",
    "plt.imshow(mask)\n",
    "\n",
    "rle,shape = mask_encoding(mask)\n",
    "print('RLE:',rle,'\\n')\n",
    "mask_recover = mask_decoding(rle,shape)\n",
    "plt.subplot(122)\n",
    "plt.imshow(mask_recover)\n",
    "\n",
    "plt.show()"
   ]
  },
  {
   "cell_type": "code",
   "execution_count": 184,
   "metadata": {
    "ExecuteTime": {
     "end_time": "2018-01-23T06:40:00.264907Z",
     "start_time": "2018-01-23T06:40:00.261151Z"
    }
   },
   "outputs": [],
   "source": [
    "import csv"
   ]
  },
  {
   "cell_type": "code",
   "execution_count": 185,
   "metadata": {
    "ExecuteTime": {
     "end_time": "2018-01-23T06:40:01.845361Z",
     "start_time": "2018-01-23T06:40:01.023245Z"
    }
   },
   "outputs": [],
   "source": [
    "csv_file_path = './stage1_train_labels.csv'\n",
    "csv_dict = {}\n",
    "with open(csv_file_path,'r',newline='') as csvfile:\n",
    "    RLE_reader = csv.reader(csvfile,delimiter=',')\n",
    "    label = next(RLE_reader)\n",
    "    for img_id,rle in RLE_reader:\n",
    "        if not csv_dict.get(img_id):\n",
    "            csv_dict[img_id] = []\n",
    "        rle = list(map(int, rle.split()))\n",
    "        csv_dict[img_id].append(rle)"
   ]
  },
  {
   "cell_type": "code",
   "execution_count": 186,
   "metadata": {
    "ExecuteTime": {
     "end_time": "2018-01-23T06:40:03.040385Z",
     "start_time": "2018-01-23T06:40:02.742701Z"
    }
   },
   "outputs": [
    {
     "name": "stdout",
     "output_type": "stream",
     "text": [
      "[25560, 5, 25815, 7, 26070, 8, 26325, 9, 26581, 9, 26837, 9, 27093, 9, 27350, 8, 27606, 7, 27863, 3]\n"
     ]
    },
    {
     "data": {
      "image/png": "[encoded data removed]",
      "text/plain": [
       "<matplotlib.figure.Figure at 0x1105e9a20>"
      ]
     },
     "metadata": {},
     "output_type": "display_data"
    }
   ],
   "source": [
    "img_id = '00071198d059ba7f5914a526d124d28e6d010c92466da21d4a04cd5413362552'\n",
    "all_masks = csv_dict[img_id]\n",
    "image_masks_path = glob('./stage1_train/'+img_id+'/masks/*')\n",
    "single_mask_path = image_masks_path[0]\n",
    "mask = np.array(Image.open(single_mask_path))\n",
    "plt.subplot(121)\n",
    "plt.imshow(mask)\n",
    "rle,shape = mask_encoding(mask)\n",
    "print(rle)\n",
    "plt.subplot(122)\n",
    "plt.imshow(mask_decoding(rle,shape))\n",
    "plt.show()"
   ]
  },
  {
   "cell_type": "code",
   "execution_count": 203,
   "metadata": {
    "ExecuteTime": {
     "end_time": "2018-01-23T09:35:37.109299Z",
     "start_time": "2018-01-23T09:35:36.282428Z"
    }
   },
   "outputs": [],
   "source": [
    "#here, I want to find a image having smallest num of mask\n",
    "# imgs = glob('./stage1_train/*')\n",
    "# s = 1e6\n",
    "# fit = None\n",
    "# for img in imgs:\n",
    "#     mask_paths = glob(img+'/masks/*')\n",
    "#     if len(mask_paths) < s:\n",
    "#         s = len(mask_paths)\n",
    "#         fit = img\n",
    "# masks_path = glob(fit+'/masks/*')"
   ]
  },
  {
   "cell_type": "code",
   "execution_count": 213,
   "metadata": {
    "ExecuteTime": {
     "end_time": "2018-01-24T01:05:54.281954Z",
     "start_time": "2018-01-24T01:05:53.601673Z"
    },
    "scrolled": true
   },
   "outputs": [
    {
     "name": "stdout",
     "output_type": "stream",
     "text": [
      "offical encoding: [46326, 11, 46579, 14, 46833, 16, 47087, 18, 47343, 18, 47598, 19, 47854, 19, 48110, 18, 48367, 15, 48623, 12, 48879, 9, 49136, 6]\n",
      "    My encoding : [46326, 11, 46579, 14, 46833, 16, 47087, 18, 47343, 18, 47598, 19, 47854, 19, 48110, 18, 48367, 15, 48623, 12, 48879, 9, 49136, 6]\n"
     ]
    },
    {
     "data": {
      "image/png": "[encoded data removed]",
      "text/plain": [
       "<matplotlib.figure.Figure at 0x114bfe4e0>"
      ]
     },
     "metadata": {},
     "output_type": "display_data"
    }
   ],
   "source": [
    "# image contain only one mask to make sure my encoding is right\n",
    "# img_id = '84eeec681987753029eb83ea5f3ff7e8b5697783cdb2035f2882d40c9a3f1029'\n",
    "# fit = './stage1_train/'+img_id\n",
    "# fit_img_path = glob(fit+'/images/*')[0]\n",
    "# fit_mask_path = glob(fit+'/masks/*')[0]\n",
    "# mask_rle = csv_dict[img_id][0]\n",
    "# print('offical encoding:',mask_rle)\n",
    "# orignal_mask = np.array(Image.open(fit_mask_path))\n",
    "# plt.subplot(131)\n",
    "# plt.imshow(orignal_mask)\n",
    "\n",
    "# rle,shape = mask_encoding(orignal_mask)\n",
    "# print('    My encoding :',rle)\n",
    "# plt.subplot(132)\n",
    "# plt.imshow(mask_decoding(rle,shape))\n",
    "\n",
    "# plt.subplot(133)\n",
    "# plt.imshow(mask_decoding(mask_rle,shape))\n",
    "# plt.show()"
   ]
  },
  {
   "cell_type": "code",
   "execution_count": null,
   "metadata": {
    "ExecuteTime": {
     "end_time": "2018-01-23T07:26:53.200509Z",
     "start_time": "2018-01-23T07:22:23.018312Z"
    },
    "scrolled": true
   },
   "outputs": [],
   "source": [
    "## get one mask for one image\n",
    "def mask_joint(mask_paths):\n",
    "    mask = np.array(Image.open(mask_paths[0]))\n",
    "    joint_mask = np.zeros_like(mask)\n",
    "    for path in mask_paths:\n",
    "        joint_mask += np.array(Image.open(path))\n",
    "    return joint_mask\n",
    "\n",
    "imgs = glob('./stage1_train/*')\n",
    "for img_path in imgs:\n",
    "    mask_paths = glob(img_path + '/masks/*')\n",
    "    one_mask = mask_joint(mask_paths)\n",
    "    plt.imshow(one_mask)\n",
    "    plt.show()\n",
    "    im = Image.fromarray(one_mask)\n",
    "    im.save(img_path + '/whole_mask.PNG','PNG')"
   ]
  },
  {
   "cell_type": "code",
   "execution_count": 207,
   "metadata": {
    "ExecuteTime": {
     "end_time": "2018-01-23T09:50:51.096000Z",
     "start_time": "2018-01-23T09:50:51.082908Z"
    }
   },
   "outputs": [
    {
     "name": "stdout",
     "output_type": "stream",
     "text": [
      "670\n"
     ]
    }
   ],
   "source": [
    "# put image in the right place\n",
    "imgs = glob('./stage1_train/*')\n",
    "print(len(imgs))\n",
    "# for img_path in imgs:\n",
    "#     im = Image.open(glob(img_path + '/images/*')[0])\n",
    "#     img_path = img_path + '/original.PNG'\n",
    "#     im.save(img_path,'PNG')"
   ]
  },
  {
   "cell_type": "code",
   "execution_count": null,
   "metadata": {},
   "outputs": [],
   "source": []
  }
 ],
 "metadata": {
  "kernelspec": {
   "display_name": "Python 3",
   "language": "python",
   "name": "python3"
  },
  "language_info": {
   "codemirror_mode": {
    "name": "ipython",
    "version": 3
   },
   "file_extension": ".py",
   "mimetype": "text/x-python",
   "name": "python",
   "nbconvert_exporter": "python",
   "pygments_lexer": "ipython3",
   "version": "3.6.0"
  },
  "toc": {
   "nav_menu": {},
   "number_sections": true,
   "sideBar": true,
   "skip_h1_title": false,
   "title_cell": "Table of Contents",
   "title_sidebar": "Contents",
   "toc_cell": false,
   "toc_position": {},
   "toc_section_display": true,
   "toc_window_display": false
  }
 },
 "nbformat": 4,
 "nbformat_minor": 2
}
