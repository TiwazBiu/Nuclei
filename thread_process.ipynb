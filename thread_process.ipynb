{
 "cells": [
  {
   "cell_type": "code",
   "execution_count": 24,
   "metadata": {
    "ExecuteTime": {
     "end_time": "2018-01-24T01:35:36.217388Z",
     "start_time": "2018-01-24T01:35:35.993627Z"
    }
   },
   "outputs": [],
   "source": [
    "import math\n",
    "from concurrent.futures import ThreadPoolExecutor, ProcessPoolExecutor\n",
    "import numpy as np"
   ]
  },
  {
   "cell_type": "code",
   "execution_count": 21,
   "metadata": {
    "ExecuteTime": {
     "end_time": "2018-01-24T00:57:04.149401Z",
     "start_time": "2018-01-24T00:57:04.116798Z"
    }
   },
   "outputs": [
    {
     "data": {
      "text/plain": [
       "[112272535095293,\n",
       " 112582705942171,\n",
       " 112272535095293,\n",
       " 115280095190773,\n",
       " 115797848077099,\n",
       " 1099726899285419]"
      ]
     },
     "execution_count": 21,
     "metadata": {},
     "output_type": "execute_result"
    }
   ],
   "source": [
    "PRIMES = [\n",
    "    (1,112272535095293),\n",
    "    (2,112582705942171),\n",
    "    (3,112272535095293),\n",
    "    (4,115280095190773),\n",
    "    (5,115797848077099),\n",
    "    (6,1099726899285419)]\n",
    "\n",
    "def is_prime(n):\n",
    "    if n%2 == 0:\n",
    "        print('{} is not a prime'.format(n))\n",
    "        return False\n",
    "    sqrt_n = int(math.floor(math.sqrt(n)))\n",
    "    \n",
    "    for i in range(3,sqrt_n,2):\n",
    "        if(n%i == 0):\n",
    "            print('{} is not a prime'.format(n))\n",
    "            return False\n",
    "    print('{} is a prime'.format(n))\n",
    "    return True"
   ]
  },
  {
   "cell_type": "code",
   "execution_count": 22,
   "metadata": {
    "ExecuteTime": {
     "end_time": "2018-01-24T00:57:37.590108Z",
     "start_time": "2018-01-24T00:57:35.289348Z"
    }
   },
   "outputs": [
    {
     "name": "stdout",
     "output_type": "stream",
     "text": [
      "1099726899285419 is not a prime\n",
      "112272535095293 is a prime\n",
      "112582705942171 is a prime\n",
      "112272535095293 is a prime\n",
      "115797848077099 is a prime\n",
      "115280095190773 is a prime\n",
      "1\t112272535095293 is prime: True\n",
      "2\t112582705942171 is prime: True\n",
      "3\t112272535095293 is prime: True\n",
      "4\t115280095190773 is prime: True\n",
      "5\t115797848077099 is prime: True\n",
      "6\t1099726899285419 is prime: False\n"
     ]
    }
   ],
   "source": [
    "with ProcessPoolExecutor(max_workers=10) as executor:\n",
    "    for (i,number), prime in zip(PRIMES, executor.map(is_prime, [num for _,num in PRIMES])):\n",
    "        print('%d\\t%d is prime: %s' %(i,number,prime))"
   ]
  },
  {
   "cell_type": "code",
   "execution_count": 29,
   "metadata": {
    "ExecuteTime": {
     "end_time": "2018-01-24T01:36:52.088510Z",
     "start_time": "2018-01-24T01:36:52.079881Z"
    }
   },
   "outputs": [
    {
     "name": "stdout",
     "output_type": "stream",
     "text": [
      "[[               1  112272535095293]\n",
      " [               2  112582705942171]\n",
      " [               3  112272535095293]\n",
      " [               4  115280095190773]\n",
      " [               5  115797848077099]\n",
      " [               6 1099726899285419]]\n",
      "[1 2 3 4 5 6]\n",
      "[ 112272535095293  112582705942171  112272535095293  115280095190773\n",
      "  115797848077099 1099726899285419]\n"
     ]
    }
   ],
   "source": [
    "time = np.array(PRIMES)\n",
    "start, stop = time.T\n",
    "print(time)\n",
    "print(start)\n",
    "print(stop)"
   ]
  },
  {
   "cell_type": "code",
   "execution_count": null,
   "metadata": {},
   "outputs": [],
   "source": []
  }
 ],
 "metadata": {
  "kernelspec": {
   "display_name": "Python 3",
   "language": "python",
   "name": "python3"
  },
  "language_info": {
   "codemirror_mode": {
    "name": "ipython",
    "version": 3
   },
   "file_extension": ".py",
   "mimetype": "text/x-python",
   "name": "python",
   "nbconvert_exporter": "python",
   "pygments_lexer": "ipython3",
   "version": "3.6.0"
  },
  "toc": {
   "nav_menu": {},
   "number_sections": true,
   "sideBar": true,
   "skip_h1_title": false,
   "title_cell": "Table of Contents",
   "title_sidebar": "Contents",
   "toc_cell": false,
   "toc_position": {},
   "toc_section_display": true,
   "toc_window_display": false
  }
 },
 "nbformat": 4,
 "nbformat_minor": 2
}
