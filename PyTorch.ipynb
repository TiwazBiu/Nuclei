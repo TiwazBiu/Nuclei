{
 "cells": [
  {
   "cell_type": "code",
   "execution_count": 131,
   "metadata": {
    "ExecuteTime": {
     "end_time": "2018-01-21T15:51:42.317112Z",
     "start_time": "2018-01-21T15:51:42.308631Z"
    }
   },
   "outputs": [],
   "source": [
    "import torch\n",
    "from torch.autograd import Variable\n",
    "import torch.nn as nn\n",
    "import torch.optim as optim\n",
    "import torchvision\n",
    "import torchvision.transforms as transforms\n",
    "from torch.utils.data import DataLoader\n",
    "import numpy as np\n",
    "import os"
   ]
  },
  {
   "cell_type": "code",
   "execution_count": 125,
   "metadata": {
    "ExecuteTime": {
     "end_time": "2018-01-21T15:48:31.557705Z",
     "start_time": "2018-01-21T15:48:00.806829Z"
    }
   },
   "outputs": [
    {
     "name": "stdout",
     "output_type": "stream",
     "text": [
      "Done!\n"
     ]
    }
   ],
   "source": [
    "# 手动下好了MNIST训练集放在/raw中,然后使用了torch官方源文件中处理MNIST的方法,转化成torch能直接使用的数据了\n",
    "from torchvision.datasets.mnist import read_image_file,read_label_file\n",
    "training_set = (\n",
    "            read_image_file(os.path.join('./MNIST/raw/', 'train-images-idx3-ubyte')),\n",
    "            read_label_file(os.path.join('./MNIST/raw/', 'train-labels-idx1-ubyte'))\n",
    "        )\n",
    "test_set = (\n",
    "            read_image_file(os.path.join('./MNIST/raw/', 't10k-images-idx3-ubyte')),\n",
    "            read_label_file(os.path.join('./MNIST/raw/', 't10k-labels-idx1-ubyte'))\n",
    "        )\n",
    "with open('./MNIST/processed/training.pt', 'wb') as f:\n",
    "            torch.save(training_set, f)\n",
    "with open('./MNIST/processed/test.pt', 'wb') as f:\n",
    "            torch.save(test_set, f)\n",
    "\n",
    "print('Done!')"
   ]
  },
  {
   "cell_type": "code",
   "execution_count": 132,
   "metadata": {
    "ExecuteTime": {
     "end_time": "2018-01-21T15:52:01.461320Z",
     "start_time": "2018-01-21T15:52:01.381952Z"
    }
   },
   "outputs": [],
   "source": [
    "# to tensor change data to (0,1),Normalize change it to (data-mean)/std \n",
    "# so  it's change from (0,1) to (-1,1)\n",
    "trans = transforms.Compose([transforms.ToTensor,\n",
    "                                transforms.Normalize(mean=(0.5,0.5,0.5),std=(0.5,0.5,0.5))])\n",
    "trainset = torchvision.datasets.MNIST(root='./MNIST',download=False,train=True,transform=trans)\n",
    "train_loader = DataLoader(trainset,batch_size=16,shuffle=True,num_workers=2)\n",
    "testset = torchvision.datasets.MNIST(root='./MNIST',download=False,train=False,transform=trans)\n",
    "test_loader = DataLoader(trainset,batch_size=16,shuffle=True,num_workers=2)"
   ]
  },
  {
   "cell_type": "code",
   "execution_count": 96,
   "metadata": {
    "ExecuteTime": {
     "end_time": "2018-01-21T14:19:49.027255Z",
     "start_time": "2018-01-21T14:19:48.945556Z"
    }
   },
   "outputs": [],
   "source": [
    "#input image size : N,28,28,1\n",
    "dtype = torch.FloatTensor\n",
    "class Flatten(nn.Module):\n",
    "    def forward(self,x):\n",
    "        N = x.size()[0]\n",
    "        return x.view(N,-1)\n",
    "\n",
    "Net = nn.Sequential(\n",
    "        nn.Conv2d(1,16,kernel_size=5),\n",
    "        nn.BatchNorm2d(16),\n",
    "        nn.Conv2d(16,32,kernel_size=5,stride=2),\n",
    "        nn.BatchNorm2d(32),\n",
    "        Flatten(),\n",
    "        nn.Linear(32*10*10,1024),\n",
    "        nn.ReLU(),\n",
    "        nn.Linear(1024,10)\n",
    ")\n",
    "Net.type(dtype)\n",
    "loss_fn = nn.CrossEntropyLoss().type(dtype)\n",
    "optimizer = optim.Adam(Net.parameters(),lr=1e-2)"
   ]
  },
  {
   "cell_type": "code",
   "execution_count": 133,
   "metadata": {
    "ExecuteTime": {
     "end_time": "2018-01-24T07:18:25.569733Z",
     "start_time": "2018-01-24T07:18:25.495479Z"
    }
   },
   "outputs": [
    {
     "name": "stdout",
     "output_type": "stream",
     "text": [
      "Sequential(\n",
      "  (0): Conv2d (1, 16, kernel_size=(5, 5), stride=(1, 1))\n",
      "  (1): BatchNorm2d(16, eps=1e-05, momentum=0.1, affine=True)\n",
      "  (2): Conv2d (16, 32, kernel_size=(5, 5), stride=(2, 2))\n",
      "  (3): BatchNorm2d(32, eps=1e-05, momentum=0.1, affine=True)\n",
      "  (4): Flatten(\n",
      "  )\n",
      "  (5): Linear(in_features=4608, out_features=1024)\n",
      "  (6): ReLU()\n",
      "  (7): Linear(in_features=1024, out_features=10)\n",
      ")\n"
     ]
    }
   ],
   "source": [
    "print(Net)\n",
    "params = list(Net.parameters())"
   ]
  },
  {
   "cell_type": "code",
   "execution_count": null,
   "metadata": {},
   "outputs": [],
   "source": [
    "# 设置好了数据集,也创建了一个网络,下一步就是使用数据来训练网络了"
   ]
  },
  {
   "cell_type": "code",
   "execution_count": null,
   "metadata": {},
   "outputs": [],
   "source": []
  }
 ],
 "metadata": {
  "kernelspec": {
   "display_name": "Python 3",
   "language": "python",
   "name": "python3"
  },
  "language_info": {
   "codemirror_mode": {
    "name": "ipython",
    "version": 3
   },
   "file_extension": ".py",
   "mimetype": "text/x-python",
   "name": "python",
   "nbconvert_exporter": "python",
   "pygments_lexer": "ipython3",
   "version": "3.6.0"
  },
  "toc": {
   "nav_menu": {},
   "number_sections": true,
   "sideBar": true,
   "skip_h1_title": false,
   "title_cell": "Table of Contents",
   "title_sidebar": "Contents",
   "toc_cell": false,
   "toc_position": {},
   "toc_section_display": true,
   "toc_window_display": false
  }
 },
 "nbformat": 4,
 "nbformat_minor": 2
}
